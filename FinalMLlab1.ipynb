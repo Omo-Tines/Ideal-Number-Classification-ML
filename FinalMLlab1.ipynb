{
  "nbformat": 4,
  "nbformat_minor": 0,
  "metadata": {
    "colab": {
      "provenance": [],
      "collapsed_sections": [
        "Nty4wc9BSsIq",
        "Ju3fn3kfixyr",
        "ba2Tjd-CjsMi",
        "cUG5YEKkklEO",
        "v1edBACYp1bb",
        "eXUqVSbHJN3W",
        "W7aYLlAnyMWA",
        "a2wmsfHG2Ewn",
        "SDJgUpiR7OBM",
        "HddsS3WcMUMV",
        "GjeFCS85OuHD"
      ],
      "authorship_tag": "ABX9TyORMr9FzCWK/sRLVtCvlwWp",
      "include_colab_link": true
    },
    "kernelspec": {
      "name": "python3",
      "display_name": "Python 3"
    },
    "language_info": {
      "name": "python"
    }
  },
  "cells": [
    {
      "cell_type": "markdown",
      "metadata": {
        "id": "view-in-github",
        "colab_type": "text"
      },
      "source": [
        "<a href=\"https://colab.research.google.com/github/Omo-Tines/Ideal-Number-Classification-ML/blob/main/FinalMLlab1.ipynb\" target=\"_parent\"><img src=\"https://colab.research.google.com/assets/colab-badge.svg\" alt=\"Open In Colab\"/></a>"
      ]
    },
    {
      "cell_type": "markdown",
      "source": [
        "#OLASENI TOWOBOLA 30812022\n",
        "#MACHINE LEARNING LAB 1"
      ],
      "metadata": {
        "id": "Nty4wc9BSsIq"
      }
    },
    {
      "cell_type": "code",
      "execution_count": null,
      "metadata": {
        "colab": {
          "base_uri": "https://localhost:8080/"
        },
        "id": "poLiutMFgTqU",
        "outputId": "6b0d9e54-a29a-48e2-c9f4-730a4c096422"
      },
      "outputs": [
        {
          "output_type": "stream",
          "name": "stdout",
          "text": [
            "Requirement already satisfied: fastai in /usr/local/lib/python3.7/dist-packages (2.5.3)\n",
            "Requirement already satisfied: torchvision>=0.8.2 in /usr/local/lib/python3.7/dist-packages (from fastai) (0.11.1+cu111)\n",
            "Requirement already satisfied: fastprogress>=0.2.4 in /usr/local/lib/python3.7/dist-packages (from fastai) (1.0.0)\n",
            "Requirement already satisfied: fastcore<1.4,>=1.3.22 in /usr/local/lib/python3.7/dist-packages (from fastai) (1.3.27)\n",
            "Requirement already satisfied: pillow>6.0.0 in /usr/local/lib/python3.7/dist-packages (from fastai) (7.1.2)\n",
            "Requirement already satisfied: scipy in /usr/local/lib/python3.7/dist-packages (from fastai) (1.4.1)\n",
            "Requirement already satisfied: pandas in /usr/local/lib/python3.7/dist-packages (from fastai) (1.3.5)\n",
            "Requirement already satisfied: spacy<4 in /usr/local/lib/python3.7/dist-packages (from fastai) (2.2.4)\n",
            "Requirement already satisfied: matplotlib in /usr/local/lib/python3.7/dist-packages (from fastai) (3.2.2)\n",
            "Requirement already satisfied: packaging in /usr/local/lib/python3.7/dist-packages (from fastai) (21.3)\n",
            "Requirement already satisfied: pip in /usr/local/lib/python3.7/dist-packages (from fastai) (21.1.3)\n",
            "Requirement already satisfied: pyyaml in /usr/local/lib/python3.7/dist-packages (from fastai) (3.13)\n",
            "Requirement already satisfied: torch<1.11,>=1.7.0 in /usr/local/lib/python3.7/dist-packages (from fastai) (1.10.0+cu111)\n",
            "Requirement already satisfied: requests in /usr/local/lib/python3.7/dist-packages (from fastai) (2.23.0)\n",
            "Requirement already satisfied: fastdownload<2,>=0.0.5 in /usr/local/lib/python3.7/dist-packages (from fastai) (0.0.5)\n",
            "Requirement already satisfied: scikit-learn in /usr/local/lib/python3.7/dist-packages (from fastai) (1.0.2)\n",
            "Requirement already satisfied: numpy in /usr/local/lib/python3.7/dist-packages (from fastprogress>=0.2.4->fastai) (1.19.5)\n",
            "Requirement already satisfied: preshed<3.1.0,>=3.0.2 in /usr/local/lib/python3.7/dist-packages (from spacy<4->fastai) (3.0.6)\n",
            "Requirement already satisfied: blis<0.5.0,>=0.4.0 in /usr/local/lib/python3.7/dist-packages (from spacy<4->fastai) (0.4.1)\n",
            "Requirement already satisfied: catalogue<1.1.0,>=0.0.7 in /usr/local/lib/python3.7/dist-packages (from spacy<4->fastai) (1.0.0)\n",
            "Requirement already satisfied: murmurhash<1.1.0,>=0.28.0 in /usr/local/lib/python3.7/dist-packages (from spacy<4->fastai) (1.0.6)\n",
            "Requirement already satisfied: wasabi<1.1.0,>=0.4.0 in /usr/local/lib/python3.7/dist-packages (from spacy<4->fastai) (0.9.0)\n",
            "Requirement already satisfied: srsly<1.1.0,>=1.0.2 in /usr/local/lib/python3.7/dist-packages (from spacy<4->fastai) (1.0.5)\n",
            "Requirement already satisfied: setuptools in /usr/local/lib/python3.7/dist-packages (from spacy<4->fastai) (57.4.0)\n",
            "Requirement already satisfied: tqdm<5.0.0,>=4.38.0 in /usr/local/lib/python3.7/dist-packages (from spacy<4->fastai) (4.62.3)\n",
            "Requirement already satisfied: plac<1.2.0,>=0.9.6 in /usr/local/lib/python3.7/dist-packages (from spacy<4->fastai) (1.1.3)\n",
            "Requirement already satisfied: thinc==7.4.0 in /usr/local/lib/python3.7/dist-packages (from spacy<4->fastai) (7.4.0)\n",
            "Requirement already satisfied: cymem<2.1.0,>=2.0.2 in /usr/local/lib/python3.7/dist-packages (from spacy<4->fastai) (2.0.6)\n",
            "Requirement already satisfied: importlib-metadata>=0.20 in /usr/local/lib/python3.7/dist-packages (from catalogue<1.1.0,>=0.0.7->spacy<4->fastai) (4.10.1)\n",
            "Requirement already satisfied: typing-extensions>=3.6.4 in /usr/local/lib/python3.7/dist-packages (from importlib-metadata>=0.20->catalogue<1.1.0,>=0.0.7->spacy<4->fastai) (3.10.0.2)\n",
            "Requirement already satisfied: zipp>=0.5 in /usr/local/lib/python3.7/dist-packages (from importlib-metadata>=0.20->catalogue<1.1.0,>=0.0.7->spacy<4->fastai) (3.7.0)\n",
            "Requirement already satisfied: certifi>=2017.4.17 in /usr/local/lib/python3.7/dist-packages (from requests->fastai) (2021.10.8)\n",
            "Requirement already satisfied: chardet<4,>=3.0.2 in /usr/local/lib/python3.7/dist-packages (from requests->fastai) (3.0.4)\n",
            "Requirement already satisfied: idna<3,>=2.5 in /usr/local/lib/python3.7/dist-packages (from requests->fastai) (2.10)\n",
            "Requirement already satisfied: urllib3!=1.25.0,!=1.25.1,<1.26,>=1.21.1 in /usr/local/lib/python3.7/dist-packages (from requests->fastai) (1.24.3)\n",
            "Requirement already satisfied: cycler>=0.10 in /usr/local/lib/python3.7/dist-packages (from matplotlib->fastai) (0.11.0)\n",
            "Requirement already satisfied: python-dateutil>=2.1 in /usr/local/lib/python3.7/dist-packages (from matplotlib->fastai) (2.8.2)\n",
            "Requirement already satisfied: pyparsing!=2.0.4,!=2.1.2,!=2.1.6,>=2.0.1 in /usr/local/lib/python3.7/dist-packages (from matplotlib->fastai) (3.0.7)\n",
            "Requirement already satisfied: kiwisolver>=1.0.1 in /usr/local/lib/python3.7/dist-packages (from matplotlib->fastai) (1.3.2)\n",
            "Requirement already satisfied: six>=1.5 in /usr/local/lib/python3.7/dist-packages (from python-dateutil>=2.1->matplotlib->fastai) (1.15.0)\n",
            "Requirement already satisfied: pytz>=2017.3 in /usr/local/lib/python3.7/dist-packages (from pandas->fastai) (2018.9)\n",
            "Requirement already satisfied: threadpoolctl>=2.0.0 in /usr/local/lib/python3.7/dist-packages (from scikit-learn->fastai) (3.1.0)\n",
            "Requirement already satisfied: joblib>=0.11 in /usr/local/lib/python3.7/dist-packages (from scikit-learn->fastai) (1.1.0)\n"
          ]
        }
      ],
      "source": [
        "#installing packages\n",
        "!pip install -Uqq fastbook\n",
        "!pip install fastai --upgrade\n",
        "import fastbook\n",
        "fastbook.setup_book()"
      ]
    },
    {
      "cell_type": "code",
      "source": [
        "#importing the various libraries needed\n",
        "from fastai.vision.all import *\n",
        "from fastbook import *\n",
        "\n",
        "matplotlib.rc('image', cmap='Greys')"
      ],
      "metadata": {
        "id": "708eBFFbhedK"
      },
      "execution_count": null,
      "outputs": []
    },
    {
      "cell_type": "markdown",
      "source": [
        "#This downloads the MNIST dataset"
      ],
      "metadata": {
        "id": "Ju3fn3kfixyr"
      }
    },
    {
      "cell_type": "code",
      "source": [
        "path = untar_data(URLs.MNIST)"
      ],
      "metadata": {
        "id": "a4YEbS8Vi7nN"
      },
      "execution_count": null,
      "outputs": []
    },
    {
      "cell_type": "code",
      "source": [
        "Path.BASE_PATH = path"
      ],
      "metadata": {
        "id": "gC8Na3qtjArz"
      },
      "execution_count": null,
      "outputs": []
    },
    {
      "cell_type": "markdown",
      "source": [
        "#Viewing the various paths in the dataset"
      ],
      "metadata": {
        "id": "ba2Tjd-CjsMi"
      }
    },
    {
      "cell_type": "code",
      "source": [
        "path.ls()"
      ],
      "metadata": {
        "colab": {
          "base_uri": "https://localhost:8080/"
        },
        "id": "uLURHRHmjq5C",
        "outputId": "5fd6e199-86a4-4acb-ac3e-141b3a83507d"
      },
      "execution_count": null,
      "outputs": [
        {
          "output_type": "execute_result",
          "data": {
            "text/plain": [
              "(#2) [Path('training'),Path('testing')]"
            ]
          },
          "metadata": {},
          "execution_count": 73
        }
      ]
    },
    {
      "cell_type": "code",
      "source": [
        "(path/'training').ls()"
      ],
      "metadata": {
        "colab": {
          "base_uri": "https://localhost:8080/"
        },
        "id": "h7UzCu8QkBLb",
        "outputId": "ff7bd247-5ab6-47c8-dfd7-402cd81fa3e8"
      },
      "execution_count": null,
      "outputs": [
        {
          "output_type": "execute_result",
          "data": {
            "text/plain": [
              "(#10) [Path('training/6'),Path('training/7'),Path('training/8'),Path('training/9'),Path('training/5'),Path('training/4'),Path('training/2'),Path('training/0'),Path('training/1'),Path('training/3')]"
            ]
          },
          "metadata": {},
          "execution_count": 74
        }
      ]
    },
    {
      "cell_type": "markdown",
      "source": [
        "#Selecting 1 3 7 8\n",
        "#splitting the data into training and validation 80-20"
      ],
      "metadata": {
        "id": "cUG5YEKkklEO"
      }
    },
    {
      "cell_type": "code",
      "source": [
        "ones = (path/'training'/'1').ls().sorted()\n",
        "threes = (path/'training'/'3').ls().sorted()\n",
        "sevens = (path/'training'/'7').ls().sorted()\n",
        "eights = (path/'training'/'8').ls().sorted()\n",
        "\n",
        "t_size=0.8 #because its 80%\n",
        "\n",
        "one_train = ones[:int(len(ones)*t_size)]\n",
        "one_valid = ones[int(len(ones)*t_size):]\n",
        "\n",
        "three_train = threes[:int(len(threes)*t_size)]\n",
        "three_valid = threes[int(len(threes)*t_size):]\n",
        "\n",
        "seven_train = sevens[:int(len(sevens)*t_size)]\n",
        "seven_valid = sevens[int(len(sevens)*t_size):]\n",
        "\n",
        "eight_train = eights[:int(len(eights)*t_size)]\n",
        "eight_valid = eights[int(len(eights)*t_size):]\n",
        "\n"
      ],
      "metadata": {
        "id": "ARywgaFTkYC-"
      },
      "execution_count": null,
      "outputs": []
    },
    {
      "cell_type": "markdown",
      "source": [
        "#Creating tensors for the training and validation datasets"
      ],
      "metadata": {
        "id": "v1edBACYp1bb"
      }
    },
    {
      "cell_type": "code",
      "source": [
        "#training tensors\n",
        "onetr_tensors = [tensor(Image.open(o)) for o in one_train]\n",
        "threetr_tensors = [tensor(Image.open(o)) for o in three_train]\n",
        "seventr_tensors = [tensor(Image.open(o)) for o in seven_train]\n",
        "eighttr_tensors = [tensor(Image.open(o)) for o in eight_train]\n",
        "len(onetr_tensors),len(threetr_tensors),len(seventr_tensors),len(eighttr_tensors)"
      ],
      "metadata": {
        "colab": {
          "base_uri": "https://localhost:8080/"
        },
        "id": "5eWeNhVxoqt5",
        "outputId": "cc73c8b4-57c8-438e-dd88-0b1b8e4a9006"
      },
      "execution_count": null,
      "outputs": [
        {
          "output_type": "execute_result",
          "data": {
            "text/plain": [
              "(5393, 4904, 5012, 4680)"
            ]
          },
          "metadata": {},
          "execution_count": 76
        }
      ]
    },
    {
      "cell_type": "code",
      "source": [
        "#valid tensors\n",
        "onev_tensors = [tensor(Image.open(o)) for o in one_valid]\n",
        "threev_tensors = [tensor(Image.open(o)) for o in three_valid]\n",
        "sevenv_tensors = [tensor(Image.open(o)) for o in seven_valid]\n",
        "eightv_tensors = [tensor(Image.open(o)) for o in eight_valid]\n",
        "len(onev_tensors),len(threev_tensors),len(sevenv_tensors),len(eightv_tensors)"
      ],
      "metadata": {
        "colab": {
          "base_uri": "https://localhost:8080/"
        },
        "id": "b27UzpfUqvIl",
        "outputId": "9f04b48b-7fa6-48ef-f82e-9d2c4a72982f"
      },
      "execution_count": null,
      "outputs": [
        {
          "output_type": "execute_result",
          "data": {
            "text/plain": [
              "(1349, 1227, 1253, 1171)"
            ]
          },
          "metadata": {},
          "execution_count": 77
        }
      ]
    },
    {
      "cell_type": "markdown",
      "source": [
        "#Validation set"
      ],
      "metadata": {
        "id": "eXUqVSbHJN3W"
      }
    },
    {
      "cell_type": "code",
      "source": [
        "# Create joint validation set\n",
        "valid_set = three_valid + eight_valid + one_valid + seven_valid\n",
        "# Shuffle validation set\n",
        "random.shuffle (valid_set)\n",
        "# Create label set\n",
        "label = []\n",
        "for i in valid_set:\n",
        "  i_label_str =  str(i).split(\"/\")[-2]\n",
        "  i_label = int (i_label_str)\n",
        "  label.append (i_label)\n",
        "\n",
        "# Create label tensor\n",
        "label_tensor = [tensor (x) for x in label]\n",
        "label_tensor"
      ],
      "metadata": {
        "colab": {
          "base_uri": "https://localhost:8080/"
        },
        "id": "qyOrG-TM-WxG",
        "outputId": "a22b00ca-ade5-4334-ccc1-ad48352d0ce7"
      },
      "execution_count": null,
      "outputs": [
        {
          "output_type": "execute_result",
          "data": {
            "text/plain": [
              "[tensor(1),\n",
              " tensor(8),\n",
              " tensor(8),\n",
              " tensor(1),\n",
              " tensor(1),\n",
              " tensor(1),\n",
              " tensor(7),\n",
              " tensor(8),\n",
              " tensor(7),\n",
              " tensor(1),\n",
              " tensor(3),\n",
              " tensor(1),\n",
              " tensor(1),\n",
              " tensor(1),\n",
              " tensor(3),\n",
              " tensor(8),\n",
              " tensor(8),\n",
              " tensor(8),\n",
              " tensor(1),\n",
              " tensor(8),\n",
              " tensor(3),\n",
              " tensor(3),\n",
              " tensor(3),\n",
              " tensor(8),\n",
              " tensor(3),\n",
              " tensor(7),\n",
              " tensor(3),\n",
              " tensor(1),\n",
              " tensor(3),\n",
              " tensor(3),\n",
              " tensor(1),\n",
              " tensor(8),\n",
              " tensor(3),\n",
              " tensor(3),\n",
              " tensor(7),\n",
              " tensor(3),\n",
              " tensor(7),\n",
              " tensor(1),\n",
              " tensor(7),\n",
              " tensor(3),\n",
              " tensor(8),\n",
              " tensor(1),\n",
              " tensor(7),\n",
              " tensor(7),\n",
              " tensor(8),\n",
              " tensor(1),\n",
              " tensor(7),\n",
              " tensor(7),\n",
              " tensor(1),\n",
              " tensor(3),\n",
              " tensor(7),\n",
              " tensor(3),\n",
              " tensor(8),\n",
              " tensor(3),\n",
              " tensor(1),\n",
              " tensor(3),\n",
              " tensor(1),\n",
              " tensor(3),\n",
              " tensor(1),\n",
              " tensor(8),\n",
              " tensor(8),\n",
              " tensor(1),\n",
              " tensor(7),\n",
              " tensor(7),\n",
              " tensor(1),\n",
              " tensor(3),\n",
              " tensor(3),\n",
              " tensor(7),\n",
              " tensor(1),\n",
              " tensor(8),\n",
              " tensor(7),\n",
              " tensor(8),\n",
              " tensor(7),\n",
              " tensor(8),\n",
              " tensor(8),\n",
              " tensor(1),\n",
              " tensor(7),\n",
              " tensor(8),\n",
              " tensor(8),\n",
              " tensor(3),\n",
              " tensor(7),\n",
              " tensor(3),\n",
              " tensor(7),\n",
              " tensor(8),\n",
              " tensor(1),\n",
              " tensor(1),\n",
              " tensor(3),\n",
              " tensor(7),\n",
              " tensor(7),\n",
              " tensor(7),\n",
              " tensor(3),\n",
              " tensor(3),\n",
              " tensor(7),\n",
              " tensor(8),\n",
              " tensor(3),\n",
              " tensor(3),\n",
              " tensor(1),\n",
              " tensor(1),\n",
              " tensor(3),\n",
              " tensor(3),\n",
              " tensor(7),\n",
              " tensor(3),\n",
              " tensor(1),\n",
              " tensor(1),\n",
              " tensor(3),\n",
              " tensor(8),\n",
              " tensor(7),\n",
              " tensor(3),\n",
              " tensor(7),\n",
              " tensor(1),\n",
              " tensor(1),\n",
              " tensor(3),\n",
              " tensor(1),\n",
              " tensor(8),\n",
              " tensor(1),\n",
              " tensor(1),\n",
              " tensor(1),\n",
              " tensor(8),\n",
              " tensor(1),\n",
              " tensor(3),\n",
              " tensor(3),\n",
              " tensor(3),\n",
              " tensor(3),\n",
              " tensor(8),\n",
              " tensor(7),\n",
              " tensor(7),\n",
              " tensor(8),\n",
              " tensor(1),\n",
              " tensor(3),\n",
              " tensor(1),\n",
              " tensor(3),\n",
              " tensor(3),\n",
              " tensor(1),\n",
              " tensor(8),\n",
              " tensor(1),\n",
              " tensor(8),\n",
              " tensor(3),\n",
              " tensor(3),\n",
              " tensor(7),\n",
              " tensor(7),\n",
              " tensor(8),\n",
              " tensor(1),\n",
              " tensor(8),\n",
              " tensor(1),\n",
              " tensor(1),\n",
              " tensor(7),\n",
              " tensor(3),\n",
              " tensor(1),\n",
              " tensor(3),\n",
              " tensor(7),\n",
              " tensor(1),\n",
              " tensor(3),\n",
              " tensor(7),\n",
              " tensor(8),\n",
              " tensor(3),\n",
              " tensor(3),\n",
              " tensor(8),\n",
              " tensor(1),\n",
              " tensor(8),\n",
              " tensor(3),\n",
              " tensor(3),\n",
              " tensor(7),\n",
              " tensor(1),\n",
              " tensor(8),\n",
              " tensor(8),\n",
              " tensor(7),\n",
              " tensor(3),\n",
              " tensor(1),\n",
              " tensor(1),\n",
              " tensor(8),\n",
              " tensor(8),\n",
              " tensor(8),\n",
              " tensor(8),\n",
              " tensor(8),\n",
              " tensor(8),\n",
              " tensor(7),\n",
              " tensor(8),\n",
              " tensor(1),\n",
              " tensor(1),\n",
              " tensor(1),\n",
              " tensor(7),\n",
              " tensor(3),\n",
              " tensor(1),\n",
              " tensor(1),\n",
              " tensor(8),\n",
              " tensor(8),\n",
              " tensor(7),\n",
              " tensor(1),\n",
              " tensor(7),\n",
              " tensor(8),\n",
              " tensor(3),\n",
              " tensor(8),\n",
              " tensor(7),\n",
              " tensor(8),\n",
              " tensor(1),\n",
              " tensor(1),\n",
              " tensor(7),\n",
              " tensor(8),\n",
              " tensor(7),\n",
              " tensor(1),\n",
              " tensor(3),\n",
              " tensor(8),\n",
              " tensor(1),\n",
              " tensor(7),\n",
              " tensor(7),\n",
              " tensor(1),\n",
              " tensor(8),\n",
              " tensor(3),\n",
              " tensor(8),\n",
              " tensor(8),\n",
              " tensor(8),\n",
              " tensor(7),\n",
              " tensor(3),\n",
              " tensor(8),\n",
              " tensor(8),\n",
              " tensor(8),\n",
              " tensor(7),\n",
              " tensor(3),\n",
              " tensor(3),\n",
              " tensor(1),\n",
              " tensor(8),\n",
              " tensor(1),\n",
              " tensor(8),\n",
              " tensor(1),\n",
              " tensor(1),\n",
              " tensor(3),\n",
              " tensor(3),\n",
              " tensor(1),\n",
              " tensor(1),\n",
              " tensor(7),\n",
              " tensor(7),\n",
              " tensor(8),\n",
              " tensor(3),\n",
              " tensor(1),\n",
              " tensor(8),\n",
              " tensor(1),\n",
              " tensor(7),\n",
              " tensor(1),\n",
              " tensor(1),\n",
              " tensor(7),\n",
              " tensor(7),\n",
              " tensor(7),\n",
              " tensor(1),\n",
              " tensor(3),\n",
              " tensor(3),\n",
              " tensor(3),\n",
              " tensor(7),\n",
              " tensor(3),\n",
              " tensor(3),\n",
              " tensor(3),\n",
              " tensor(3),\n",
              " tensor(3),\n",
              " tensor(1),\n",
              " tensor(8),\n",
              " tensor(7),\n",
              " tensor(1),\n",
              " tensor(8),\n",
              " tensor(3),\n",
              " tensor(3),\n",
              " tensor(8),\n",
              " tensor(3),\n",
              " tensor(8),\n",
              " tensor(7),\n",
              " tensor(1),\n",
              " tensor(1),\n",
              " tensor(3),\n",
              " tensor(1),\n",
              " tensor(1),\n",
              " tensor(1),\n",
              " tensor(1),\n",
              " tensor(3),\n",
              " tensor(8),\n",
              " tensor(7),\n",
              " tensor(3),\n",
              " tensor(8),\n",
              " tensor(3),\n",
              " tensor(8),\n",
              " tensor(1),\n",
              " tensor(7),\n",
              " tensor(3),\n",
              " tensor(8),\n",
              " tensor(1),\n",
              " tensor(7),\n",
              " tensor(3),\n",
              " tensor(1),\n",
              " tensor(3),\n",
              " tensor(1),\n",
              " tensor(3),\n",
              " tensor(1),\n",
              " tensor(8),\n",
              " tensor(7),\n",
              " tensor(8),\n",
              " tensor(8),\n",
              " tensor(1),\n",
              " tensor(7),\n",
              " tensor(8),\n",
              " tensor(7),\n",
              " tensor(1),\n",
              " tensor(1),\n",
              " tensor(8),\n",
              " tensor(1),\n",
              " tensor(3),\n",
              " tensor(1),\n",
              " tensor(1),\n",
              " tensor(8),\n",
              " tensor(8),\n",
              " tensor(8),\n",
              " tensor(1),\n",
              " tensor(1),\n",
              " tensor(8),\n",
              " tensor(1),\n",
              " tensor(1),\n",
              " tensor(1),\n",
              " tensor(7),\n",
              " tensor(1),\n",
              " tensor(7),\n",
              " tensor(1),\n",
              " tensor(1),\n",
              " tensor(1),\n",
              " tensor(7),\n",
              " tensor(3),\n",
              " tensor(1),\n",
              " tensor(3),\n",
              " tensor(1),\n",
              " tensor(3),\n",
              " tensor(3),\n",
              " tensor(3),\n",
              " tensor(8),\n",
              " tensor(8),\n",
              " tensor(7),\n",
              " tensor(1),\n",
              " tensor(7),\n",
              " tensor(8),\n",
              " tensor(3),\n",
              " tensor(1),\n",
              " tensor(7),\n",
              " tensor(7),\n",
              " tensor(1),\n",
              " tensor(1),\n",
              " tensor(7),\n",
              " tensor(1),\n",
              " tensor(3),\n",
              " tensor(8),\n",
              " tensor(3),\n",
              " tensor(7),\n",
              " tensor(8),\n",
              " tensor(1),\n",
              " tensor(7),\n",
              " tensor(7),\n",
              " tensor(8),\n",
              " tensor(7),\n",
              " tensor(8),\n",
              " tensor(3),\n",
              " tensor(1),\n",
              " tensor(7),\n",
              " tensor(8),\n",
              " tensor(3),\n",
              " tensor(7),\n",
              " tensor(7),\n",
              " tensor(3),\n",
              " tensor(8),\n",
              " tensor(7),\n",
              " tensor(1),\n",
              " tensor(8),\n",
              " tensor(3),\n",
              " tensor(7),\n",
              " tensor(8),\n",
              " tensor(3),\n",
              " tensor(7),\n",
              " tensor(7),\n",
              " tensor(8),\n",
              " tensor(3),\n",
              " tensor(7),\n",
              " tensor(3),\n",
              " tensor(8),\n",
              " tensor(7),\n",
              " tensor(3),\n",
              " tensor(7),\n",
              " tensor(7),\n",
              " tensor(8),\n",
              " tensor(1),\n",
              " tensor(8),\n",
              " tensor(7),\n",
              " tensor(3),\n",
              " tensor(1),\n",
              " tensor(7),\n",
              " tensor(1),\n",
              " tensor(1),\n",
              " tensor(3),\n",
              " tensor(1),\n",
              " tensor(8),\n",
              " tensor(1),\n",
              " tensor(7),\n",
              " tensor(1),\n",
              " tensor(7),\n",
              " tensor(1),\n",
              " tensor(3),\n",
              " tensor(7),\n",
              " tensor(3),\n",
              " tensor(3),\n",
              " tensor(7),\n",
              " tensor(1),\n",
              " tensor(1),\n",
              " tensor(1),\n",
              " tensor(7),\n",
              " tensor(8),\n",
              " tensor(8),\n",
              " tensor(8),\n",
              " tensor(3),\n",
              " tensor(8),\n",
              " tensor(8),\n",
              " tensor(3),\n",
              " tensor(1),\n",
              " tensor(1),\n",
              " tensor(1),\n",
              " tensor(8),\n",
              " tensor(7),\n",
              " tensor(7),\n",
              " tensor(3),\n",
              " tensor(1),\n",
              " tensor(1),\n",
              " tensor(7),\n",
              " tensor(8),\n",
              " tensor(3),\n",
              " tensor(3),\n",
              " tensor(1),\n",
              " tensor(8),\n",
              " tensor(3),\n",
              " tensor(3),\n",
              " tensor(7),\n",
              " tensor(1),\n",
              " tensor(8),\n",
              " tensor(3),\n",
              " tensor(7),\n",
              " tensor(1),\n",
              " tensor(3),\n",
              " tensor(8),\n",
              " tensor(7),\n",
              " tensor(3),\n",
              " tensor(1),\n",
              " tensor(1),\n",
              " tensor(8),\n",
              " tensor(8),\n",
              " tensor(1),\n",
              " tensor(1),\n",
              " tensor(3),\n",
              " tensor(1),\n",
              " tensor(7),\n",
              " tensor(1),\n",
              " tensor(8),\n",
              " tensor(1),\n",
              " tensor(7),\n",
              " tensor(1),\n",
              " tensor(8),\n",
              " tensor(1),\n",
              " tensor(7),\n",
              " tensor(8),\n",
              " tensor(3),\n",
              " tensor(1),\n",
              " tensor(8),\n",
              " tensor(7),\n",
              " tensor(8),\n",
              " tensor(7),\n",
              " tensor(7),\n",
              " tensor(7),\n",
              " tensor(8),\n",
              " tensor(1),\n",
              " tensor(8),\n",
              " tensor(1),\n",
              " tensor(3),\n",
              " tensor(8),\n",
              " tensor(3),\n",
              " tensor(3),\n",
              " tensor(3),\n",
              " tensor(1),\n",
              " tensor(7),\n",
              " tensor(8),\n",
              " tensor(8),\n",
              " tensor(1),\n",
              " tensor(8),\n",
              " tensor(1),\n",
              " tensor(3),\n",
              " tensor(7),\n",
              " tensor(7),\n",
              " tensor(3),\n",
              " tensor(8),\n",
              " tensor(3),\n",
              " tensor(1),\n",
              " tensor(8),\n",
              " tensor(8),\n",
              " tensor(3),\n",
              " tensor(1),\n",
              " tensor(7),\n",
              " tensor(3),\n",
              " tensor(3),\n",
              " tensor(1),\n",
              " tensor(1),\n",
              " tensor(3),\n",
              " tensor(1),\n",
              " tensor(3),\n",
              " tensor(7),\n",
              " tensor(1),\n",
              " tensor(7),\n",
              " tensor(7),\n",
              " tensor(3),\n",
              " tensor(8),\n",
              " tensor(1),\n",
              " tensor(8),\n",
              " tensor(7),\n",
              " tensor(1),\n",
              " tensor(1),\n",
              " tensor(1),\n",
              " tensor(3),\n",
              " tensor(1),\n",
              " tensor(3),\n",
              " tensor(1),\n",
              " tensor(1),\n",
              " tensor(3),\n",
              " tensor(1),\n",
              " tensor(8),\n",
              " tensor(7),\n",
              " tensor(3),\n",
              " tensor(1),\n",
              " tensor(7),\n",
              " tensor(1),\n",
              " tensor(7),\n",
              " tensor(1),\n",
              " tensor(7),\n",
              " tensor(1),\n",
              " tensor(3),\n",
              " tensor(7),\n",
              " tensor(3),\n",
              " tensor(8),\n",
              " tensor(8),\n",
              " tensor(3),\n",
              " tensor(1),\n",
              " tensor(7),\n",
              " tensor(3),\n",
              " tensor(3),\n",
              " tensor(7),\n",
              " tensor(3),\n",
              " tensor(8),\n",
              " tensor(7),\n",
              " tensor(3),\n",
              " tensor(1),\n",
              " tensor(1),\n",
              " tensor(7),\n",
              " tensor(8),\n",
              " tensor(8),\n",
              " tensor(7),\n",
              " tensor(7),\n",
              " tensor(1),\n",
              " tensor(1),\n",
              " tensor(8),\n",
              " tensor(8),\n",
              " tensor(3),\n",
              " tensor(1),\n",
              " tensor(7),\n",
              " tensor(8),\n",
              " tensor(1),\n",
              " tensor(3),\n",
              " tensor(7),\n",
              " tensor(1),\n",
              " tensor(1),\n",
              " tensor(8),\n",
              " tensor(8),\n",
              " tensor(7),\n",
              " tensor(7),\n",
              " tensor(3),\n",
              " tensor(1),\n",
              " tensor(8),\n",
              " tensor(8),\n",
              " tensor(1),\n",
              " tensor(1),\n",
              " tensor(8),\n",
              " tensor(3),\n",
              " tensor(8),\n",
              " tensor(7),\n",
              " tensor(3),\n",
              " tensor(8),\n",
              " tensor(3),\n",
              " tensor(1),\n",
              " tensor(7),\n",
              " tensor(7),\n",
              " tensor(7),\n",
              " tensor(1),\n",
              " tensor(7),\n",
              " tensor(1),\n",
              " tensor(3),\n",
              " tensor(3),\n",
              " tensor(7),\n",
              " tensor(1),\n",
              " tensor(7),\n",
              " tensor(7),\n",
              " tensor(8),\n",
              " tensor(8),\n",
              " tensor(8),\n",
              " tensor(8),\n",
              " tensor(7),\n",
              " tensor(7),\n",
              " tensor(7),\n",
              " tensor(7),\n",
              " tensor(8),\n",
              " tensor(1),\n",
              " tensor(8),\n",
              " tensor(7),\n",
              " tensor(3),\n",
              " tensor(7),\n",
              " tensor(3),\n",
              " tensor(8),\n",
              " tensor(7),\n",
              " tensor(3),\n",
              " tensor(8),\n",
              " tensor(1),\n",
              " tensor(1),\n",
              " tensor(3),\n",
              " tensor(3),\n",
              " tensor(7),\n",
              " tensor(7),\n",
              " tensor(8),\n",
              " tensor(8),\n",
              " tensor(3),\n",
              " tensor(1),\n",
              " tensor(8),\n",
              " tensor(3),\n",
              " tensor(1),\n",
              " tensor(3),\n",
              " tensor(8),\n",
              " tensor(7),\n",
              " tensor(3),\n",
              " tensor(8),\n",
              " tensor(1),\n",
              " tensor(3),\n",
              " tensor(8),\n",
              " tensor(3),\n",
              " tensor(1),\n",
              " tensor(7),\n",
              " tensor(1),\n",
              " tensor(7),\n",
              " tensor(7),\n",
              " tensor(1),\n",
              " tensor(3),\n",
              " tensor(7),\n",
              " tensor(7),\n",
              " tensor(3),\n",
              " tensor(7),\n",
              " tensor(1),\n",
              " tensor(3),\n",
              " tensor(3),\n",
              " tensor(7),\n",
              " tensor(7),\n",
              " tensor(1),\n",
              " tensor(3),\n",
              " tensor(8),\n",
              " tensor(7),\n",
              " tensor(3),\n",
              " tensor(7),\n",
              " tensor(8),\n",
              " tensor(1),\n",
              " tensor(1),\n",
              " tensor(8),\n",
              " tensor(3),\n",
              " tensor(8),\n",
              " tensor(8),\n",
              " tensor(3),\n",
              " tensor(3),\n",
              " tensor(8),\n",
              " tensor(1),\n",
              " tensor(3),\n",
              " tensor(3),\n",
              " tensor(3),\n",
              " tensor(3),\n",
              " tensor(1),\n",
              " tensor(7),\n",
              " tensor(8),\n",
              " tensor(3),\n",
              " tensor(7),\n",
              " tensor(7),\n",
              " tensor(8),\n",
              " tensor(7),\n",
              " tensor(3),\n",
              " tensor(1),\n",
              " tensor(1),\n",
              " tensor(7),\n",
              " tensor(7),\n",
              " tensor(1),\n",
              " tensor(8),\n",
              " tensor(8),\n",
              " tensor(1),\n",
              " tensor(3),\n",
              " tensor(7),\n",
              " tensor(1),\n",
              " tensor(7),\n",
              " tensor(7),\n",
              " tensor(8),\n",
              " tensor(8),\n",
              " tensor(1),\n",
              " tensor(8),\n",
              " tensor(1),\n",
              " tensor(3),\n",
              " tensor(3),\n",
              " tensor(1),\n",
              " tensor(3),\n",
              " tensor(1),\n",
              " tensor(8),\n",
              " tensor(7),\n",
              " tensor(3),\n",
              " tensor(8),\n",
              " tensor(1),\n",
              " tensor(1),\n",
              " tensor(1),\n",
              " tensor(8),\n",
              " tensor(7),\n",
              " tensor(1),\n",
              " tensor(3),\n",
              " tensor(1),\n",
              " tensor(8),\n",
              " tensor(8),\n",
              " tensor(1),\n",
              " tensor(7),\n",
              " tensor(7),\n",
              " tensor(8),\n",
              " tensor(8),\n",
              " tensor(8),\n",
              " tensor(1),\n",
              " tensor(8),\n",
              " tensor(7),\n",
              " tensor(1),\n",
              " tensor(3),\n",
              " tensor(7),\n",
              " tensor(8),\n",
              " tensor(1),\n",
              " tensor(8),\n",
              " tensor(3),\n",
              " tensor(3),\n",
              " tensor(1),\n",
              " tensor(1),\n",
              " tensor(3),\n",
              " tensor(7),\n",
              " tensor(7),\n",
              " tensor(3),\n",
              " tensor(1),\n",
              " tensor(3),\n",
              " tensor(1),\n",
              " tensor(7),\n",
              " tensor(3),\n",
              " tensor(3),\n",
              " tensor(3),\n",
              " tensor(7),\n",
              " tensor(1),\n",
              " tensor(1),\n",
              " tensor(7),\n",
              " tensor(3),\n",
              " tensor(3),\n",
              " tensor(3),\n",
              " tensor(3),\n",
              " tensor(8),\n",
              " tensor(1),\n",
              " tensor(1),\n",
              " tensor(8),\n",
              " tensor(1),\n",
              " tensor(3),\n",
              " tensor(1),\n",
              " tensor(8),\n",
              " tensor(1),\n",
              " tensor(1),\n",
              " tensor(1),\n",
              " tensor(3),\n",
              " tensor(1),\n",
              " tensor(3),\n",
              " tensor(3),\n",
              " tensor(7),\n",
              " tensor(8),\n",
              " tensor(3),\n",
              " tensor(7),\n",
              " tensor(1),\n",
              " tensor(1),\n",
              " tensor(3),\n",
              " tensor(8),\n",
              " tensor(3),\n",
              " tensor(7),\n",
              " tensor(3),\n",
              " tensor(1),\n",
              " tensor(7),\n",
              " tensor(7),\n",
              " tensor(7),\n",
              " tensor(1),\n",
              " tensor(1),\n",
              " tensor(3),\n",
              " tensor(7),\n",
              " tensor(7),\n",
              " tensor(3),\n",
              " tensor(8),\n",
              " tensor(3),\n",
              " tensor(3),\n",
              " tensor(3),\n",
              " tensor(1),\n",
              " tensor(3),\n",
              " tensor(8),\n",
              " tensor(7),\n",
              " tensor(7),\n",
              " tensor(3),\n",
              " tensor(8),\n",
              " tensor(7),\n",
              " tensor(7),\n",
              " tensor(1),\n",
              " tensor(1),\n",
              " tensor(7),\n",
              " tensor(3),\n",
              " tensor(3),\n",
              " tensor(1),\n",
              " tensor(1),\n",
              " tensor(7),\n",
              " tensor(7),\n",
              " tensor(3),\n",
              " tensor(8),\n",
              " tensor(8),\n",
              " tensor(7),\n",
              " tensor(8),\n",
              " tensor(3),\n",
              " tensor(1),\n",
              " tensor(7),\n",
              " tensor(3),\n",
              " tensor(1),\n",
              " tensor(1),\n",
              " tensor(3),\n",
              " tensor(8),\n",
              " tensor(1),\n",
              " tensor(7),\n",
              " tensor(8),\n",
              " tensor(3),\n",
              " tensor(7),\n",
              " tensor(3),\n",
              " tensor(7),\n",
              " tensor(1),\n",
              " tensor(7),\n",
              " tensor(8),\n",
              " tensor(1),\n",
              " tensor(1),\n",
              " tensor(1),\n",
              " tensor(3),\n",
              " tensor(8),\n",
              " tensor(3),\n",
              " tensor(7),\n",
              " tensor(3),\n",
              " tensor(7),\n",
              " tensor(1),\n",
              " tensor(8),\n",
              " tensor(1),\n",
              " tensor(7),\n",
              " tensor(3),\n",
              " tensor(8),\n",
              " tensor(7),\n",
              " tensor(3),\n",
              " tensor(1),\n",
              " tensor(1),\n",
              " tensor(3),\n",
              " tensor(1),\n",
              " tensor(3),\n",
              " tensor(8),\n",
              " tensor(1),\n",
              " tensor(7),\n",
              " tensor(1),\n",
              " tensor(3),\n",
              " tensor(8),\n",
              " tensor(7),\n",
              " tensor(3),\n",
              " tensor(8),\n",
              " tensor(8),\n",
              " tensor(1),\n",
              " tensor(7),\n",
              " tensor(1),\n",
              " tensor(1),\n",
              " tensor(7),\n",
              " tensor(1),\n",
              " tensor(1),\n",
              " tensor(1),\n",
              " tensor(8),\n",
              " tensor(1),\n",
              " tensor(8),\n",
              " tensor(7),\n",
              " tensor(7),\n",
              " tensor(7),\n",
              " tensor(1),\n",
              " tensor(8),\n",
              " tensor(1),\n",
              " tensor(7),\n",
              " tensor(7),\n",
              " tensor(1),\n",
              " tensor(8),\n",
              " tensor(8),\n",
              " tensor(3),\n",
              " tensor(1),\n",
              " tensor(1),\n",
              " tensor(3),\n",
              " tensor(1),\n",
              " tensor(7),\n",
              " tensor(7),\n",
              " tensor(8),\n",
              " tensor(3),\n",
              " tensor(8),\n",
              " tensor(1),\n",
              " tensor(3),\n",
              " tensor(1),\n",
              " tensor(3),\n",
              " tensor(3),\n",
              " tensor(8),\n",
              " tensor(8),\n",
              " tensor(8),\n",
              " tensor(3),\n",
              " tensor(7),\n",
              " tensor(7),\n",
              " tensor(3),\n",
              " tensor(8),\n",
              " tensor(3),\n",
              " tensor(3),\n",
              " tensor(7),\n",
              " tensor(3),\n",
              " tensor(3),\n",
              " tensor(7),\n",
              " tensor(1),\n",
              " tensor(8),\n",
              " tensor(8),\n",
              " tensor(1),\n",
              " tensor(3),\n",
              " tensor(3),\n",
              " tensor(1),\n",
              " tensor(8),\n",
              " tensor(7),\n",
              " tensor(3),\n",
              " tensor(7),\n",
              " tensor(3),\n",
              " tensor(8),\n",
              " tensor(3),\n",
              " tensor(8),\n",
              " tensor(1),\n",
              " tensor(8),\n",
              " tensor(1),\n",
              " tensor(3),\n",
              " tensor(7),\n",
              " tensor(3),\n",
              " tensor(7),\n",
              " tensor(8),\n",
              " tensor(7),\n",
              " tensor(3),\n",
              " tensor(7),\n",
              " tensor(7),\n",
              " tensor(8),\n",
              " tensor(3),\n",
              " tensor(1),\n",
              " tensor(3),\n",
              " tensor(7),\n",
              " tensor(7),\n",
              " tensor(1),\n",
              " tensor(1),\n",
              " tensor(7),\n",
              " tensor(3),\n",
              " tensor(7),\n",
              " tensor(7),\n",
              " tensor(3),\n",
              " tensor(1),\n",
              " tensor(1),\n",
              " tensor(7),\n",
              " tensor(1),\n",
              " tensor(8),\n",
              " tensor(8),\n",
              " tensor(7),\n",
              " tensor(7),\n",
              " tensor(7),\n",
              " tensor(8),\n",
              " tensor(3),\n",
              " tensor(1),\n",
              " tensor(3),\n",
              " tensor(3),\n",
              " tensor(3),\n",
              " tensor(8),\n",
              " tensor(1),\n",
              " tensor(7),\n",
              " tensor(3),\n",
              " tensor(8),\n",
              " tensor(1),\n",
              " tensor(1),\n",
              " tensor(7),\n",
              " tensor(8),\n",
              " tensor(1),\n",
              " tensor(3),\n",
              " tensor(7),\n",
              " tensor(8),\n",
              " tensor(3),\n",
              " tensor(7),\n",
              " tensor(1),\n",
              " tensor(7),\n",
              " tensor(1),\n",
              " tensor(1),\n",
              " tensor(7),\n",
              " tensor(7),\n",
              " tensor(7),\n",
              " tensor(8),\n",
              " tensor(7),\n",
              " tensor(3),\n",
              " ...]"
            ]
          },
          "metadata": {},
          "execution_count": 78
        }
      ]
    },
    {
      "cell_type": "code",
      "source": [
        "#stacked validation\n",
        "valid_tens = [tensor(Image.open(o)) for o in valid_set]\n",
        "stacked_valid_set = torch.stack(valid_tens).float()/255"
      ],
      "metadata": {
        "id": "upLLFkOvBZ1j"
      },
      "execution_count": null,
      "outputs": []
    },
    {
      "cell_type": "code",
      "source": [
        "#STACKED training\n",
        "stacked_trainones = torch.stack(onetr_tensors).float()/255\n",
        "stacked_trainthrees = torch.stack(threetr_tensors).float()/255\n",
        "stacked_trainsevens = torch.stack(seventr_tensors).float()/255\n",
        "stacked_traineights = torch.stack(eighttr_tensors).float()/255"
      ],
      "metadata": {
        "id": "yffrlMWKooke"
      },
      "execution_count": null,
      "outputs": []
    },
    {
      "cell_type": "code",
      "source": [
        "stacked_trainones.ndim"
      ],
      "metadata": {
        "colab": {
          "base_uri": "https://localhost:8080/"
        },
        "id": "vfBqqFoBonen",
        "outputId": "5bf39167-7c40-4ff3-d780-8606205eb296"
      },
      "execution_count": null,
      "outputs": [
        {
          "output_type": "execute_result",
          "data": {
            "text/plain": [
              "3"
            ]
          },
          "metadata": {},
          "execution_count": 81
        }
      ]
    },
    {
      "cell_type": "code",
      "source": [
        "stacked_trainthrees.ndim"
      ],
      "metadata": {
        "colab": {
          "base_uri": "https://localhost:8080/"
        },
        "id": "N1Ykp9VcxKuM",
        "outputId": "410068aa-32f9-444f-8cb3-6739a0d393a3"
      },
      "execution_count": null,
      "outputs": [
        {
          "output_type": "execute_result",
          "data": {
            "text/plain": [
              "3"
            ]
          },
          "metadata": {},
          "execution_count": 82
        }
      ]
    },
    {
      "cell_type": "code",
      "source": [
        "stacked_trainsevens.ndim"
      ],
      "metadata": {
        "colab": {
          "base_uri": "https://localhost:8080/"
        },
        "id": "RzWh8UVZxVI7",
        "outputId": "3cc80c7d-4fa7-46c1-8681-32fb2247bc8a"
      },
      "execution_count": null,
      "outputs": [
        {
          "output_type": "execute_result",
          "data": {
            "text/plain": [
              "3"
            ]
          },
          "metadata": {},
          "execution_count": 83
        }
      ]
    },
    {
      "cell_type": "code",
      "source": [
        "stacked_traineights.ndim"
      ],
      "metadata": {
        "colab": {
          "base_uri": "https://localhost:8080/"
        },
        "id": "ttUIov06xgBY",
        "outputId": "1468686a-9e1a-459d-b3bd-1c232d298dd6"
      },
      "execution_count": null,
      "outputs": [
        {
          "output_type": "execute_result",
          "data": {
            "text/plain": [
              "3"
            ]
          },
          "metadata": {},
          "execution_count": 84
        }
      ]
    },
    {
      "cell_type": "markdown",
      "source": [
        "#getting the ideal image of each digit"
      ],
      "metadata": {
        "id": "W7aYLlAnyMWA"
      }
    },
    {
      "cell_type": "code",
      "source": [
        "ideal1= stacked_trainones.mean(0)\n",
        "show_image(ideal1);"
      ],
      "metadata": {
        "colab": {
          "base_uri": "https://localhost:8080/"
        },
        "id": "_bf5AFDNyLb1",
        "outputId": "4f5a305c-a218-4359-86b4-6993bc831294"
      },
      "execution_count": null,
      "outputs": [
        {
          "output_type": "display_data",
          "data": {
            "image/png": "[encoded data removed]",
            "text/plain": [
              "<Figure size 72x72 with 1 Axes>"
            ]
          },
          "metadata": {
            "needs_background": "light"
          }
        }
      ]
    },
    {
      "cell_type": "code",
      "source": [
        "ideal3= stacked_trainthrees.mean(0)\n",
        "show_image(ideal3);"
      ],
      "metadata": {
        "colab": {
          "base_uri": "https://localhost:8080/"
        },
        "id": "Jk0j9sbiyptn",
        "outputId": "79a755f2-7f3c-4f77-9bd0-abe636c43171"
      },
      "execution_count": null,
      "outputs": [
        {
          "output_type": "display_data",
          "data": {
            "image/png": "[encoded data removed]",
            "text/plain": [
              "<Figure size 72x72 with 1 Axes>"
            ]
          },
          "metadata": {
            "needs_background": "light"
          }
        }
      ]
    },
    {
      "cell_type": "code",
      "source": [
        "ideal7= stacked_trainsevens.mean(0)\n",
        "show_image(ideal7);"
      ],
      "metadata": {
        "colab": {
          "base_uri": "https://localhost:8080/"
        },
        "id": "Z7GznJxA0pRZ",
        "outputId": "a4dd0286-ad7a-4835-fd02-25e274574554"
      },
      "execution_count": null,
      "outputs": [
        {
          "output_type": "display_data",
          "data": {
            "image/png": "[encoded data removed]",
            "text/plain": [
              "<Figure size 72x72 with 1 Axes>"
            ]
          },
          "metadata": {
            "needs_background": "light"
          }
        }
      ]
    },
    {
      "cell_type": "code",
      "source": [
        "ideal8= stacked_traineights.mean(0)\n",
        "show_image(ideal8);"
      ],
      "metadata": {
        "colab": {
          "base_uri": "https://localhost:8080/"
        },
        "id": "zqZy3BnM0weE",
        "outputId": "16509d82-35a4-49ed-c991-fdf66d5cb92a"
      },
      "execution_count": null,
      "outputs": [
        {
          "output_type": "display_data",
          "data": {
            "image/png": "[encoded data removed]",
            "text/plain": [
              "<Figure size 72x72 with 1 Axes>"
            ]
          },
          "metadata": {
            "needs_background": "light"
          }
        }
      ]
    },
    {
      "cell_type": "markdown",
      "source": [
        "#Writing the classifier function"
      ],
      "metadata": {
        "id": "a2wmsfHG2Ewn"
      }
    },
    {
      "cell_type": "code",
      "source": [
        "def mnist_dist(a,b) : return (a-b).abs().mean((-1,-2))"
      ],
      "metadata": {
        "id": "-Czb2KjD09Ni"
      },
      "execution_count": null,
      "outputs": []
    },
    {
      "cell_type": "code",
      "source": [
        "# Returns a tensor of predictions\n",
        "def is_num (x,y):\n",
        "  dist_3 = mnist_dist (x, ideal3)\n",
        "  dist_8 = mnist_dist (x, ideal8)\n",
        "  dist_1 = mnist_dist (x, ideal1)\n",
        "  dist_7 = mnist_dist (x, ideal7)\n",
        "\n",
        "  is_3 = torch.logical_and (torch.logical_and ((dist_3 < dist_8), (dist_3 < dist_1)), (dist_3 < dist_7))\n",
        "  is_8 = torch.logical_and (torch. logical_and ((dist_8< dist_3), (dist_8 < dist_1)), (dist_8 < dist_7))\n",
        "  is_1 = torch.logical_and (torch.logical_and ((dist_1 < dist_3), (dist_1< dist_8)), (dist_1 < dist_7))\n",
        "  is_7 = torch.logical_and(torch.logical_and ((dist_7 < dist_8), (dist_7 < dist_1)), (dist_7 < dist_3))\n",
        "\n",
        "  result = []\n",
        "  for i in range(len(y)):\n",
        "    if(is_3[i].item() == True ): result.append(3)\n",
        "    elif(is_8[i].item() == True) : result.append(8)\n",
        "    elif(is_1[i].item() == True): result.append (1)\n",
        "    elif(is_7[i].item() == True) : result.append (7)\n",
        "  return result\n",
        "\n",
        "def accuracy(a,b):\n",
        "  pixsim_tens = torch.eq(a, b)\n",
        "  accuracy = pixsim_tens.float().mean().item()\n",
        "  return round(accuracy * 100, 2)\n",
        "\n"
      ],
      "metadata": {
        "id": "_W53w-NZ4PMQ"
      },
      "execution_count": null,
      "outputs": []
    },
    {
      "cell_type": "markdown",
      "source": [
        "#testing the classifier on the validation set and finding its accuracy\n"
      ],
      "metadata": {
        "id": "SDJgUpiR7OBM"
      }
    },
    {
      "cell_type": "code",
      "source": [
        "results = is_num(stacked_valid_set, stacked_valid_set)\n",
        "result_tens = [tensor(result) for result in results]\n",
        "\n",
        "# Create result and label tensor stacks\n",
        "label_stack = torch.stack(label_tensor)\n",
        "result_stack = torch.stack(result_tens)\n",
        "\n",
        "# Calculate accuracy\n",
        "accuracy(result_stack, label_stack)"
      ],
      "metadata": {
        "colab": {
          "base_uri": "https://localhost:8080/"
        },
        "id": "K0clmT027M_L",
        "outputId": "89764120-cd7d-4c90-e7d3-b6bf01c99dd7"
      },
      "execution_count": null,
      "outputs": [
        {
          "output_type": "execute_result",
          "data": {
            "text/plain": [
              "73.08"
            ]
          },
          "metadata": {},
          "execution_count": 91
        }
      ]
    },
    {
      "cell_type": "markdown",
      "source": [
        "#Test set"
      ],
      "metadata": {
        "id": "HddsS3WcMUMV"
      }
    },
    {
      "cell_type": "code",
      "source": [
        "t_ones = (path/'testing'/'1').ls().sorted()\n",
        "t_threes = (path/'testing'/'3').ls().sorted()\n",
        "t_sevens = (path/'testing'/'7').ls().sorted()\n",
        "t_eights = (path/'testing'/'8').ls().sorted()\n",
        "\n",
        "# Create joint test set\n",
        "test_set = t_threes + t_eights + t_ones + t_sevens\n",
        "\n",
        "# Shuffle test set\n",
        "random.shuffle(test_set)\n",
        "\n",
        "# Create label set\n",
        "test_label = []\n",
        "for t in test_set:\n",
        "  test_label_str = str(t).split(\"/\")[-2]\n",
        "  t_label = int(test_label_str)\n",
        "  test_label.append(t_label)\n",
        "\n",
        "# Create test label tensor\n",
        "test_label_tensor = [tensor(x) for x in test_label]\n",
        "\n",
        "# Create test tensor\n",
        "test_tensor = [tensor(Image.open(t)) for t in test_set]\n",
        "stack_test = torch.stack(test_tensor).float()/255\n",
        "\n",
        "\n",
        "#tensor testing set\n",
        "test_one_tensors = [tensor(Image.open(o)) for o in t_ones]\n",
        "test_three_tensors = [tensor(Image.open(o)) for o in t_threes]\n",
        "test_seven_tensors = [tensor(Image.open(o)) for o in t_sevens]\n",
        "test_eight_tensors = [tensor(Image.open(o)) for o in t_eights]\n",
        "\n",
        "len(test_one_tensors),len(test_three_tensors),len(test_seven_tensors),len(test_eight_tensors)"
      ],
      "metadata": {
        "colab": {
          "base_uri": "https://localhost:8080/"
        },
        "id": "nsNC9n7hFUmm",
        "outputId": "d4a4a7c2-ff9d-4c57-a336-00b2ee65ab1d"
      },
      "execution_count": null,
      "outputs": [
        {
          "output_type": "execute_result",
          "data": {
            "text/plain": [
              "(1135, 1010, 1028, 974)"
            ]
          },
          "metadata": {},
          "execution_count": 92
        }
      ]
    },
    {
      "cell_type": "markdown",
      "source": [
        "#running the classsifer on the test set and finding the accuracy"
      ],
      "metadata": {
        "id": "GjeFCS85OuHD"
      }
    },
    {
      "cell_type": "code",
      "source": [
        "# Predict with test set\n",
        "test_result = is_num(stack_test, stack_test)\n",
        "test_result_tens = [tensor(result) for result in test_result]\n",
        "\n",
        "# Create prediction and label tensor stacks\n",
        "testlabel_tens_stack = torch.stack(test_label_tensor)\n",
        "test_result_tens_stack = torch.stack(test_result_tens)\n",
        "\n",
        "# Calculate accuracy\n",
        "accuracy(test_result_tens_stack, testlabel_tens_stack)"
      ],
      "metadata": {
        "colab": {
          "base_uri": "https://localhost:8080/"
        },
        "id": "-7vSYR57OtH4",
        "outputId": "166d3b29-cdeb-45a0-a5a5-c8aea35124bc"
      },
      "execution_count": null,
      "outputs": [
        {
          "output_type": "execute_result",
          "data": {
            "text/plain": [
              "73.38"
            ]
          },
          "metadata": {},
          "execution_count": 93
        }
      ]
    }
  ]
}